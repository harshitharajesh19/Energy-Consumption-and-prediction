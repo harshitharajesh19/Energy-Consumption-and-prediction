{
 "cells": [
  {
   "cell_type": "markdown",
   "metadata": {
    "id": "X7STSnzQOaCq"
   },
   "source": [
    "# **Household Power Consumption**\n",
    "\n",
    "### **Dataset Description:**\n",
    "\n",
    "This dataset captures electric power consumption in a household with one-minute intervals over nearly four years (December 2006 to November 2010). It provides detailed time-series data on various electrical quantities and energy sub-metering.\n",
    "\n",
    "**Characteristics:**\n",
    "\n",
    "**Type**: Multivariate, Time-Series\n",
    "\n",
    "**Tasks**: Regression, Clustering\n",
    "\n",
    "**Records**: 2,075,259\n",
    "\n",
    "**Period**: 47 months\n",
    "\n",
    "**Sampling Rate**:  One minute\n",
    "\n",
    "**Attributes**:\n",
    "\n",
    "**Date**: Observation date (dd/mm/yyyy)\n",
    "\n",
    "**Time**: Observation time (hh:mm:ss)\n",
    "\n",
    "**Global_active_power**: Active power consumption (kW)\n",
    "\n",
    "**Global_reactive_power**: Reactive power consumption (kW)\n",
    "\n",
    "**Voltage**: Supply voltage (V)\n",
    "\n",
    "**Global_intensity**: Current intensity (A)\n",
    "\n",
    "**Sub_metering_1**: Energy for the kitchen (Wh)\n",
    "\n",
    "**Sub_metering_2**: Energy for the laundry room (Wh)\n",
    "\n",
    "**Sub_metering_3**: Energy for heating/AC (Wh)\n",
    "\n",
    "**Notes**:\n",
    "\n",
    "Energy Calculation: (global_active_power*1000/60 - sub_metering_1 - sub_metering_2 - sub_metering_3) gives unmeasured energy consumption.\n",
    "Missing Values: Around 1.25% of rows have missing data.\n",
    "\n",
    "**Summary**\n",
    "\n",
    "The dataset is ideal for analyzing energy consumption trends, time-series forecasting, and predictive modeling, with some data cleaning needed due to missing values.\n",
    "\n",
    "\n",
    "\n",
    "\n",
    "\n",
    "\n",
    "\n",
    "\n",
    "\n",
    "\n",
    "\n",
    "\n"
   ]
  },
  {
   "cell_type": "markdown",
   "metadata": {
    "id": "AMzr0gXTWsAA"
   },
   "source": [
    "# **Import libraries and Load the dataset**"
   ]
  },
  {
   "cell_type": "code",
   "execution_count": null,
   "metadata": {
    "id": "WmPzDiaFNxjA"
   },
   "outputs": [],
   "source": [
    "import pandas as pd\n",
    "import numpy as np\n",
    "import matplotlib.pyplot as plt"
   ]
  },
  {
   "cell_type": "code",
   "execution_count": null,
   "metadata": {
    "colab": {
     "base_uri": "https://localhost:8080/"
    },
    "id": "vvRyWBfvObNG",
    "outputId": "35a0c664-4e3e-4546-be26-9b574879214e"
   },
   "outputs": [],
   "source": [
    "df=pd.read_csv('household_power_consumption.txt',sep=\";\")"
   ]
  },
  {
   "cell_type": "markdown",
   "metadata": {
    "id": "wZvXdQCKXOTy"
   },
   "source": [
    "# **Basic Data Exploration**"
   ]
  },
  {
   "cell_type": "code",
   "execution_count": null,
   "metadata": {
    "colab": {
     "base_uri": "https://localhost:8080/"
    },
    "id": "yrGrPX3dOyas",
    "outputId": "31daaabf-f707-49dd-f592-d3e1fa9a2768"
   },
   "outputs": [],
   "source": [
    "df.shape"
   ]
  },
  {
   "cell_type": "markdown",
   "metadata": {
    "id": "Ylr-G6EeYRCl"
   },
   "source": [
    "**observation**:The dataset consists of 2075259 rows with 9 columns"
   ]
  },
  {
   "cell_type": "code",
   "execution_count": null,
   "metadata": {
    "colab": {
     "base_uri": "https://localhost:8080/",
     "height": 226
    },
    "id": "G9nDu_pdO1t9",
    "outputId": "38997673-c486-4467-b0cb-7ee3378aad18"
   },
   "outputs": [],
   "source": [
    "df.head()"
   ]
  },
  {
   "cell_type": "markdown",
   "metadata": {
    "id": "n_tYP5-kZAWl"
   },
   "source": [
    "**observation**:The above are the first five rows of the dataset"
   ]
  },
  {
   "cell_type": "code",
   "execution_count": null,
   "metadata": {
    "colab": {
     "base_uri": "https://localhost:8080/",
     "height": 226
    },
    "id": "aU24IRMXPBQI",
    "outputId": "a75de690-8cef-422e-c7ca-124e2239ba9c"
   },
   "outputs": [],
   "source": [
    "df.tail()"
   ]
  },
  {
   "cell_type": "markdown",
   "metadata": {
    "id": "bDXg9sATZKWb"
   },
   "source": [
    "**observation**:The above are the last five rows of the dataset"
   ]
  },
  {
   "cell_type": "code",
   "execution_count": null,
   "metadata": {
    "colab": {
     "base_uri": "https://localhost:8080/"
    },
    "id": "6OPya2-PO71B",
    "outputId": "dac73d42-eb29-42a6-f729-c973653d3fef"
   },
   "outputs": [],
   "source": [
    "df.info()"
   ]
  },
  {
   "cell_type": "markdown",
   "metadata": {
    "id": "NEPGLn89ZT9m"
   },
   "source": [
    "\n",
    "**Observations**:\n",
    "\n",
    "\n",
    "**Data Types Issue**: Eight columns are object types instead of numeric, indicating non-numeric values or formatting issues.\n",
    "\n",
    "M**emory Usage**: The dataset uses 142.5 MB, suggesting a large dataset requiring efficient handling.\n",
    "\n",
    "**Data Cleaning Needed**: Conversion to numeric types is necessary for meaningful analysis and modeling."
   ]
  },
  {
   "cell_type": "code",
   "execution_count": null,
   "metadata": {
    "colab": {
     "base_uri": "https://localhost:8080/"
    },
    "id": "ljjUDt4fPyvZ",
    "outputId": "e1834238-e9f2-4fc3-c8b6-87b571c777d9"
   },
   "outputs": [],
   "source": [
    "len(df)"
   ]
  },
  {
   "cell_type": "markdown",
   "metadata": {
    "id": "loJBscpeZ45P"
   },
   "source": [
    "**observation**:The length of the DataFrame df is 2,075,259 entries."
   ]
  },
  {
   "cell_type": "code",
   "execution_count": null,
   "metadata": {
    "colab": {
     "base_uri": "https://localhost:8080/",
     "height": 300
    },
    "id": "jkJC5HuIP1Hk",
    "outputId": "4b55e2ad-3a07-47ba-fffb-f43be7bcf6fa"
   },
   "outputs": [],
   "source": [
    "df.describe()"
   ]
  },
  {
   "cell_type": "markdown",
   "metadata": {
    "id": "_w2TXhngZ-Ie"
   },
   "source": [
    "**Observations** :\n",
    "\n",
    "**Count**: ~2,049,280 entries (indicating missing values).\n",
    "\n",
    "**Mean**: 6.46 watt-hours.\n",
    "\n",
    "**Standard Deviation**: 8.44 (high variability).\n",
    "\n",
    "**Minimum**: 0 watt-hours (no consumption).\n",
    "\n",
    "**Percentiles**:\n",
    "\n",
    "25% of values are 0 watt-hours.\n",
    "\n",
    "50% (median) is 1 watt-hour.\n",
    "\n",
    "75% are up to 17 watt-hours.\n",
    "\n",
    "**Maximum**: 31 watt-hours.\n",
    "\n",
    "Overall, the data shows many instances of low or zero energy consumption."
   ]
  },
  {
   "cell_type": "markdown",
   "metadata": {
    "id": "Gg90yfvb1SKT"
   },
   "source": [
    "# **Datatype conversion**"
   ]
  },
  {
   "cell_type": "code",
   "execution_count": null,
   "metadata": {
    "colab": {
     "base_uri": "https://localhost:8080/"
    },
    "id": "OXuoFtRqyNrL",
    "outputId": "441c44d3-b7b6-406d-bbb1-b158ca7f5153"
   },
   "outputs": [],
   "source": [
    "# Convert all columns to float, coercing errors\n",
    "for column in df.columns:\n",
    "    df[column] = pd.to_numeric(df[column], errors='coerce')\n",
    "\n",
    "# Display DataFrame information after conversion\n",
    "df.info()\n"
   ]
  },
  {
   "cell_type": "markdown",
   "metadata": {
    "id": "HvRWJaHJzS_F"
   },
   "source": [
    "**Observations**\n",
    "\n",
    "**Data Type Conversion**: All columns in the DataFrame are now of type float64, indicating successful conversion. Any non-numeric entries were coerced to NaN.\n",
    "\n",
    "**Columns Overview**: The DataFrame contains 9 columns, including Date, Time, Global_active_power, Global_reactive_power, Voltage, Global_intensity, Sub_metering_1, Sub_metering_2, and Sub_metering_3.\n",
    "\n",
    "**Missing Values**: The conversion process may have introduced NaN values in the Date and Time columns, which need to be addressed for accurate analysis.\n",
    "\n",
    "**Memory Usage**: The DataFrame occupies approximately 156.3 MB of memory with 2,049,280 entries."
   ]
  },
  {
   "cell_type": "code",
   "execution_count": null,
   "metadata": {
    "colab": {
     "base_uri": "https://localhost:8080/",
     "height": 320
    },
    "id": "5n5o98fDyVv8",
    "outputId": "33c022aa-ba1d-426e-ffb3-be426dec857b"
   },
   "outputs": [],
   "source": [
    "# Display descriptive statistics of a DataFrame after convertion of columns to float\n",
    "df.describe()"
   ]
  },
  {
   "cell_type": "markdown",
   "metadata": {
    "id": "KhsiINwv0AGG"
   },
   "source": [
    " **Observations**\n",
    "\n",
    "**Count**: All numeric columns have 2,049,280 entries, but Date and Time have zero counts, indicating they were converted to NaN.\n",
    "\n",
    "**Mean Values**:\n",
    "\n",
    "**Global_active_power**: 1.09\n",
    "\n",
    "**Global_reactive_power**: 0.12\n",
    "\n",
    "**Voltage**: 240.84\n",
    "\n",
    "**Global_intensity**: 4.63\n",
    "\n",
    "**Sub_metering_1**: 1.12\n",
    "\n",
    "**Sub_metering_2**: 1.30\n",
    "\n",
    "**Sub_metering_3**: 6.46\n",
    "\n",
    "**Variability**: Global_active_power and Global_intensity have high standard deviations, indicating significant fluctuations.\n",
    "\n",
    "**Range**:\n",
    "\n",
    "**Global_active_power**: 0.076 to 11.12\n",
    "\n",
    "**Voltage**: 223.2 to 254.15\n",
    "\n",
    "**Sub_metering_**3: max of 31.0.\n",
    "\n",
    "**Conclusion**\n",
    "The dataset needs handling for NaN values in Date and Time columns, and further analysis is required for numeric features."
   ]
  },
  {
   "cell_type": "markdown",
   "metadata": {
    "id": "uPi0zeq9piPp"
   },
   "source": [
    "# **Finding Null Values and Unique Values**"
   ]
  },
  {
   "cell_type": "code",
   "execution_count": null,
   "metadata": {
    "colab": {
     "base_uri": "https://localhost:8080/"
    },
    "id": "WqYheS01pddz",
    "outputId": "99a21a04-82c1-4ab8-e577-39f9071efe7a"
   },
   "outputs": [],
   "source": [
    "# Count of unique values in each column\n",
    "unique_values = df.nunique()\n",
    "print(unique_values)"
   ]
  },
  {
   "cell_type": "code",
   "execution_count": null,
   "metadata": {
    "colab": {
     "base_uri": "https://localhost:8080/",
     "height": 366
    },
    "id": "MD2-8moDqx_x",
    "outputId": "6c385b0a-94ac-41ff-a96d-88fecb1f0358"
   },
   "outputs": [],
   "source": [
    "#checks for any null (missing) values in each column\n",
    "df.isnull().any()"
   ]
  },
  {
   "cell_type": "code",
   "execution_count": null,
   "metadata": {
    "colab": {
     "base_uri": "https://localhost:8080/"
    },
    "id": "dsGNcR5aqHbw",
    "outputId": "d4b8dcfb-cfe7-4f21-8c58-9d0f5f9861e8"
   },
   "outputs": [],
   "source": [
    "# Count of null values in each column\n",
    "null_values = df.isnull().sum()\n",
    "print(null_values)\n"
   ]
  },
  {
   "cell_type": "code",
   "execution_count": null,
   "metadata": {
    "colab": {
     "base_uri": "https://localhost:8080/"
    },
    "id": "du6rF0_PrQLF",
    "outputId": "bcc9af76-8971-4adf-871e-5d745e3addf8"
   },
   "outputs": [],
   "source": [
    "# Percentage of null values in each column\n",
    "null_percentage = (df.isnull().sum() / len(df)) * 100\n",
    "print(null_percentage)\n"
   ]
  },
  {
   "cell_type": "markdown",
   "metadata": {
    "id": "yGpL9rVGr3xg"
   },
   "source": [
    "# **Handling Null Values**"
   ]
  },
  {
   "cell_type": "code",
   "execution_count": null,
   "metadata": {
    "colab": {
     "base_uri": "https://localhost:8080/",
     "height": 423
    },
    "id": "iQ37yQv1r6bl",
    "outputId": "5fc2e9b6-fc18-484c-94b7-e849498d165f"
   },
   "outputs": [],
   "source": [
    "# Drop rows where Sub_metering_3 is null\n",
    "df = df.dropna(subset=['Sub_metering_3'])\n",
    "df"
   ]
  },
  {
   "cell_type": "code",
   "execution_count": null,
   "metadata": {
    "colab": {
     "base_uri": "https://localhost:8080/"
    },
    "id": "7A2rHktAtp5O",
    "outputId": "ef3c3384-3d3a-40b8-be6b-695262781538"
   },
   "outputs": [],
   "source": [
    "# Fill missing values in Sub_metering_3 with the median and assign it back\n",
    "df['Sub_metering_3'] = df['Sub_metering_3'].fillna(df['Sub_metering_3'].median())\n",
    "\n",
    "# Display the updated DataFrame (for the first few rows)\n",
    "print(\"Updated DataFrame:\")\n",
    "print(df.head())"
   ]
  },
  {
   "cell_type": "code",
   "execution_count": null,
   "metadata": {
    "colab": {
     "base_uri": "https://localhost:8080/"
    },
    "id": "Wb2ZhTPiuU5n",
    "outputId": "e0705120-c187-4101-c66e-10e490eb0466"
   },
   "outputs": [],
   "source": [
    "# Count of null values in each column after filling\n",
    "null_values = df.isnull().sum()\n",
    "print(\"\\nNull Values Count After Filling:\")\n",
    "print(null_values)"
   ]
  },
  {
   "cell_type": "markdown",
   "metadata": {
    "id": "R5nHqFiJ1mX6"
   },
   "source": [
    "# **Questions**\n",
    "1.Is there any relation in the pattern of data between global active and reactive power?\n",
    "\n",
    "2.How does the global active power vary over time?\n",
    "\n",
    "3.Are there any seasonal trends in voltage usage?"
   ]
  },
  {
   "cell_type": "markdown",
   "metadata": {
    "id": "fW_JZwZrC5LG"
   },
   "source": [
    "# **Data** **Conversion**"
   ]
  },
  {
   "cell_type": "code",
   "execution_count": null,
   "metadata": {
    "colab": {
     "base_uri": "https://localhost:8080/"
    },
    "id": "hA6hBDVh8oQT",
    "outputId": "1ef72fd1-0d2d-4cf2-c5bf-ccf731ba056a"
   },
   "outputs": [],
   "source": [
    "import pandas as pd\n",
    "import numpy as np\n",
    "import matplotlib.pyplot as plt\n",
    "df=pd.read_csv('household_power_consumption.txt',sep=\";\")"
   ]
  },
  {
   "cell_type": "code",
   "execution_count": null,
   "metadata": {
    "id": "dUOuTfJ7719A"
   },
   "outputs": [],
   "source": [
    "# Convert numeric columns to appropriate data types\n",
    "df['Global_active_power'] = pd.to_numeric(df['Global_active_power'], errors='coerce')\n",
    "df['Global_reactive_power'] = pd.to_numeric(df['Global_reactive_power'], errors='coerce')\n",
    "df['Voltage'] = pd.to_numeric(df['Voltage'], errors='coerce')\n",
    "df['Global_intensity'] = pd.to_numeric(df['Global_intensity'], errors='coerce')\n",
    "df['Sub_metering_1'] = pd.to_numeric(df['Sub_metering_1'], errors='coerce')\n",
    "df['Sub_metering_2'] = pd.to_numeric(df['Sub_metering_2'], errors='coerce')"
   ]
  },
  {
   "cell_type": "markdown",
   "metadata": {
    "id": "D8It-tX0D4p2"
   },
   "source": [
    "### **Observation**\n",
    "The code ensures that the following columns in the dataset are correctly converted to numeric types, enabling proper analysis and visualization:\n",
    "\n",
    "Global Active Power\n",
    "\n",
    "Global Reactive Power\n",
    "\n",
    "Voltage\n",
    "\n",
    "Global Intensity\n",
    "\n",
    "Sub Metering 1 and 2\n",
    "\n",
    "It handles non-numeric values by converting them to NaN using errors='coerce', ensuring the data is ready for calculations or visualizations.\n",
    "\n",
    "\n",
    "\n",
    "\n",
    "\n",
    "\n"
   ]
  },
  {
   "cell_type": "code",
   "execution_count": null,
   "metadata": {
    "colab": {
     "base_uri": "https://localhost:8080/",
     "height": 226
    },
    "id": "D66adSbM75TH",
    "outputId": "c639e692-c581-4e5a-c88e-f9f269642cf1"
   },
   "outputs": [],
   "source": [
    "df.head()"
   ]
  },
  {
   "cell_type": "code",
   "execution_count": null,
   "metadata": {
    "colab": {
     "base_uri": "https://localhost:8080/",
     "height": 434
    },
    "id": "5-L0Bezc8IRD",
    "outputId": "3b5acf3e-6af1-4b21-de5a-5a90253a2c9d"
   },
   "outputs": [],
   "source": [
    "df['DateTime'] = pd.to_datetime(df['Date'] + ' ' + df['Time'])\n",
    "df['Year'] = df['DateTime'].dt.year\n",
    "df['Month'] = df['DateTime'].dt.month\n",
    "df['Day'] = df['DateTime'].dt.day\n",
    "df['Hour'] = df['DateTime'].dt.hour\n",
    "df['Minute'] = df['DateTime'].dt.minute # if you want as minutes are not mentioned\n",
    "df.head()"
   ]
  },
  {
   "cell_type": "markdown",
   "metadata": {
    "id": "ZJg0o_DjEaQx"
   },
   "source": [
    "### **observations:**\n",
    "The code extracts time-related features from the 'Date' and 'Time' columns, including:\n",
    "\n",
    "Year: The year of the observation.\n",
    "\n",
    "Month: The month of the observation.\n",
    "\n",
    "Day: The day of the month of the observation.\n",
    "\n",
    "Hour: The hour at which the observation was made.\n",
    "\n",
    "Minute: The minute at which the observation was recorded (if relevant).\n",
    "\n",
    "These new columns enable further time-based analysis, such as aggregation by year, month, day, or hour, which can help in identifying trends or patterns over time in the dataset.\n",
    "\n",
    "\n",
    "\n",
    "\n",
    "\n",
    "\n"
   ]
  },
  {
   "cell_type": "code",
   "execution_count": null,
   "metadata": {
    "colab": {
     "base_uri": "https://localhost:8080/",
     "height": 203
    },
    "id": "uLjOkeCxCKP5",
    "outputId": "1fdf59cc-f749-4b0f-fe75-aa3bea97b463"
   },
   "outputs": [],
   "source": [
    "type(df['DateTime'])"
   ]
  },
  {
   "cell_type": "markdown",
   "metadata": {
    "id": "y27D_4iiE4LR"
   },
   "source": [
    "### **Observation**\n",
    "\n",
    "The observation from type(df['DateTime']) would be that the DateTime column is of type pandas.core.series.Series, which means that it is a one-dimensional array of datetime objects. This column is derived from combining the Date and Time columns into a single datetime object, allowing you to work with time-based features (like year, month, day, hour, and minute) more effectively.\n",
    "\n",
    "Since the data is in datetime64[ns] format, it allows for easy extraction of time-related components such as the year, month, day, hour, and minute, making it useful for time series analysis."
   ]
  },
  {
   "cell_type": "code",
   "execution_count": null,
   "metadata": {
    "colab": {
     "base_uri": "https://localhost:8080/",
     "height": 175
    },
    "id": "NzzhRkf_CirP",
    "outputId": "c2a4ece0-545a-4588-f019-a89c11cbdb53"
   },
   "outputs": [],
   "source": [
    "df.describe(include='object')"
   ]
  },
  {
   "cell_type": "markdown",
   "metadata": {
    "id": "kZmNWm0GFli4"
   },
   "source": [
    "### **Observations**\n",
    "\n",
    "The df.describe(include='object') function provides summary statistics for the non-numeric (categorical or object) columns in the DataFrame. The observations are:\n",
    "\n",
    "Count: The number of non-null entries in each object column.\n",
    "Unique: The number of distinct values in each object column.\n",
    "Top: The most frequent value (mode) in each object column.\n",
    "Freq: The frequency of the most frequent value in each object column.\n",
    "This helps in understanding the distribution and variability of categorical data, such as dates, times, or any text-based information in your DataFrame."
   ]
  },
  {
   "cell_type": "code",
   "execution_count": null,
   "metadata": {
    "colab": {
     "base_uri": "https://localhost:8080/",
     "height": 424
    },
    "id": "MWve-qHtCV_5",
    "outputId": "d0db9d18-e2fd-4e08-9776-607cc6a4932a"
   },
   "outputs": [],
   "source": [
    "df.describe()"
   ]
  },
  {
   "cell_type": "code",
   "execution_count": null,
   "metadata": {
    "colab": {
     "base_uri": "https://localhost:8080/"
    },
    "id": "KuRkS8rwCoT2",
    "outputId": "ae0c26b5-8347-40f9-c315-73082ce24023"
   },
   "outputs": [],
   "source": [
    "df.info()"
   ]
  },
  {
   "cell_type": "markdown",
   "metadata": {
    "id": "S4dJ1eVVGTpG"
   },
   "source": [
    "## **Data Encoding**"
   ]
  },
  {
   "cell_type": "code",
   "execution_count": null,
   "metadata": {
    "id": "kpQJ60keCyBA"
   },
   "outputs": [],
   "source": [
    "# Start of  data encoding\n",
    "import datetime as dt\n",
    "\n",
    "def is_holiday(date):\n",
    "    year = int(date.split('/')[2])\n",
    "    month = int(date.split('/')[1])\n",
    "    day = int(date.split('/')[0])\n",
    "\n",
    "    if dt.datetime(year, month, day).weekday() >= 5:\n",
    "        return 1.0\n",
    "    else:\n",
    "        return 0.0\n",
    "\n",
    "for data in [df]:\n",
    "    data['Is_holiday'] = data['Date'].apply(lambda x: is_holiday(x))\n",
    "    data['Light']      = data['Time'].apply(lambda x: 1 if int(x[:2]) >= 6 and int(x[:2]) < 18 else 0)\n",
    "    data['Time']       = data['Time'].apply(lambda x: (int(x[:2]) * 60.0 + int(x[3:5])) / 1440.0)"
   ]
  },
  {
   "cell_type": "markdown",
   "metadata": {
    "id": "EBc-4xTFGFbL"
   },
   "source": [
    "### **observations**\n",
    "\n",
    "The code adds three new columns to the DataFrame:\n",
    "\n",
    "Is_holiday: Marks weekends (Saturday and Sunday) as holidays with a 1.0, and weekdays as non-holidays with a 0.0.\n",
    "\n",
    "Light: Indicates daylight hours (06:00 to 17:59) as 1, and night hours as 0.\n",
    "\n",
    "Time: Converts time into a fractional day format, where the time is represented as a portion of the 24-hour day.\n",
    "\n",
    "These transformations help in further analysis, such as checking for holidays, daylight hours, and converting time into a numerical scale."
   ]
  },
  {
   "cell_type": "code",
   "execution_count": null,
   "metadata": {
    "colab": {
     "base_uri": "https://localhost:8080/",
     "height": 399
    },
    "id": "ERPY2IYFCzTc",
    "outputId": "1b4d7e9f-9da4-43bb-91a2-d59e50c0cad5"
   },
   "outputs": [],
   "source": [
    "data.tail()"
   ]
  },
  {
   "cell_type": "markdown",
   "metadata": {
    "id": "eJIdYTA43uGG"
   },
   "source": [
    "# **graph** **plottings**"
   ]
  },
  {
   "cell_type": "markdown",
   "metadata": {
    "id": "CLaIZuD-34Ly"
   },
   "source": [
    "## **1. Distribution of Voltage**\n",
    "This histogram will show the frequency distribution of voltage values in the dataset."
   ]
  },
  {
   "cell_type": "code",
   "execution_count": null,
   "metadata": {
    "colab": {
     "base_uri": "https://localhost:8080/",
     "height": 564
    },
    "id": "oyAE_dY-0AsT",
    "outputId": "0e8174a3-a390-46d6-82de-32e4b75adaf3"
   },
   "outputs": [],
   "source": [
    "plt.figure(figsize=(8, 6))\n",
    "plt.hist(df['Voltage'], bins=20)\n",
    "plt.xlabel('Voltage')\n",
    "plt.ylabel('Frequency')\n",
    "plt.title('Distribution of Voltage')\n",
    "plt.show()"
   ]
  },
  {
   "cell_type": "markdown",
   "metadata": {
    "id": "Qm-8Fd1MGwuD"
   },
   "source": [
    "### **observations**\n",
    "\n",
    "The histogram of the Voltage variable shows the distribution of voltage values across the dataset. Key observations:\n",
    "\n",
    "The voltage values seem to be concentrated around a specific range, indicating that most of the readings are within a certain voltage range.\n",
    "\n",
    "The distribution is likely uniform with some frequency spikes, suggesting relatively consistent voltage levels in the data.\n",
    "\n",
    "Outliers or extreme voltage values are less frequent, as the plot appears to have a narrow spread.\n",
    "\n",
    "This suggests that the voltage readings are generally stable with some variation, likely representing typical household or industrial electricity usage."
   ]
  },
  {
   "cell_type": "markdown",
   "metadata": {
    "id": "0OgjmTlB4IS2"
   },
   "source": [
    "## **2. Time-Series Plots for Global Active Power**\n",
    "These plots show the mean global active power by year, month, and day for a more granular time-based view."
   ]
  },
  {
   "cell_type": "code",
   "execution_count": null,
   "metadata": {
    "colab": {
     "base_uri": "https://localhost:8080/",
     "height": 447
    },
    "id": "79mVoQC7EX_T",
    "outputId": "7e39cd08-e7fc-40b4-eab9-a6d88e302643"
   },
   "outputs": [],
   "source": [
    "plt.figure(figsize=(14, 8))\n",
    "\n",
    "# Subplot 1: Mean global active power by year\n",
    "plt.subplot(2, 2, 1)\n",
    "df.groupby('Year')['Global_active_power'].mean().plot(color='darkblue')\n",
    "plt.xlabel('Year')\n",
    "plt.ylabel('Mean Global Active Power')\n",
    "plt.title('Mean Global Active Power by Year')\n",
    "plt.tight_layout()\n",
    "plt.show()"
   ]
  },
  {
   "cell_type": "markdown",
   "metadata": {
    "id": "pmaCGrjwHJrm"
   },
   "source": [
    "## **observations**\n",
    "\n",
    "The plot of Mean Global Active Power by Year provides the following key observations:\n",
    "\n",
    "The global active power shows yearly fluctuations, with varying peaks and valleys.\n",
    "\n",
    "It appears that the mean global active power fluctuates over the years, which could be indicative of changes in consumption patterns, either due to seasonal variations or other factors like economic growth, technological changes, or energy efficiency improvements.\n",
    "\n",
    "The plot suggests there may be certain years with higher energy demand, possibly linked to external factors such as weather or energy consumption trends in specific years.\n",
    "\n",
    "Overall, the trend reflects how global active power usage has varied over the years, offering insights into overall consumption patterns."
   ]
  },
  {
   "cell_type": "code",
   "execution_count": null,
   "metadata": {
    "colab": {
     "base_uri": "https://localhost:8080/",
     "height": 447
    },
    "id": "pDjI2bczDLI5",
    "outputId": "76088b10-e25f-4866-8a55-afebdadf3cf9"
   },
   "outputs": [],
   "source": [
    "plt.figure(figsize=(14, 8))\n",
    "# Subplot 2: Mean global active power by month\n",
    "plt.subplot(2, 2, 2)\n",
    "df.groupby('Month')['Global_active_power'].mean().plot(color='green')\n",
    "plt.xlabel('Month')\n",
    "plt.ylabel('Mean Global Active Power')\n",
    "plt.title('Mean Global Active Power by Month')\n",
    "plt.tight_layout()\n",
    "plt.show()"
   ]
  },
  {
   "cell_type": "markdown",
   "metadata": {
    "id": "btqipkHdHb2v"
   },
   "source": [
    "### **Observation**\n",
    "\n",
    "The plot of Mean Global Active Power by Month provides the following key observations:\n",
    "\n",
    "There are noticeable monthly fluctuations in global active power usage, with certain months showing higher mean values than others.\n",
    "\n",
    "Typically, winter months (e.g., December, January, February) might show higher power usage due to heating needs, whereas summer months might show higher usage due to air conditioning, depending on the region.\n",
    "\n",
    "The spring and fall months (e.g., March, April, October, November) tend to show lower mean global active power values, possibly due to milder weather and reduced heating or cooling requirements.\n",
    "\n",
    "The seasonal variation in power usage is apparent, suggesting that energy consumption is highly dependent on seasonal weather patterns and temperature control needs.\n",
    "\n",
    "Overall, the plot shows how energy consumption patterns change throughout the year, influenced by temperature, weather, and possibly societal behaviors."
   ]
  },
  {
   "cell_type": "code",
   "execution_count": null,
   "metadata": {
    "colab": {
     "base_uri": "https://localhost:8080/",
     "height": 447
    },
    "id": "TzUETqvPELML",
    "outputId": "ce2221e9-d49e-4cb0-b5be-71739994424a"
   },
   "outputs": [],
   "source": [
    "plt.figure(figsize=(14, 8))\n",
    "# Subplot 3: Mean global active power by day\n",
    "plt.subplot(2, 2, 3)\n",
    "df.groupby('Day')['Global_active_power'].mean().plot(color='purple')\n",
    "plt.xlabel('Day')\n",
    "plt.ylabel('Mean Global Active Power')\n",
    "plt.title('Mean Global Active Power by Day of the Month')\n",
    "plt.tight_layout()\n",
    "plt.show()"
   ]
  },
  {
   "cell_type": "markdown",
   "metadata": {
    "id": "Ns4AOQaYHq7C"
   },
   "source": [
    "### **Observations**\n",
    "\n",
    "The plot of Mean Global Active Power by Day of the Month provides the following observations:\n",
    "\n",
    "The mean global active power tends to show fluctuations throughout the month, with some days exhibiting higher or lower power usage compared to others.\n",
    "\n",
    "There may be certain patterns or peaks in the data that coincide with specific days, such as weekends or holidays, where power usage could be higher or lower depending on the behavior of consumers.\n",
    "\n",
    "The overall trend could suggest daily routines influencing power consumption, such as higher usage during working days (if certain industries or offices are open) or increased consumption on weekends due to leisure activities or home usage.\n",
    "\n",
    "Irregular spikes or dips might also indicate unusual days or specific events contributing to significant deviations from the average usage.\n",
    "\n",
    "This type of analysis helps in identifying daily consumption patterns and understanding how people tend to use electricity over the course of the month.\n",
    "\n",
    "\n",
    "\n",
    "\n",
    "\n",
    "\n"
   ]
  },
  {
   "cell_type": "code",
   "execution_count": null,
   "metadata": {
    "colab": {
     "base_uri": "https://localhost:8080/",
     "height": 320
    },
    "id": "MtTq9bJ_ENsi",
    "outputId": "51407acb-faa5-453a-ca0a-63676d81f44e"
   },
   "outputs": [],
   "source": [
    "plt.figure(figsize=(14, 8))\n",
    "\n",
    "# Subplot 4: Mean Global Active Power by Hour of the Day\n",
    "plt.subplot(3, 2, 4)\n",
    "df.groupby('Hour')['Global_active_power'].mean().plot(marker='o', color='orange')\n",
    "plt.xlabel('Hour of the Day')\n",
    "plt.ylabel('Mean Global Active Power (kW)')\n",
    "plt.title('Mean Global Active Power by Hour of the Day')\n",
    "plt.tight_layout()\n",
    "plt.show()"
   ]
  },
  {
   "cell_type": "markdown",
   "metadata": {
    "id": "IvDrw3DzIHqs"
   },
   "source": [
    "## **observations**\n",
    "\n",
    "The plot of Mean Global Active Power by Hour of the Day provides the following observations:\n",
    "\n",
    "The mean global active power typically shows fluctuations throughout the day, with certain hours exhibiting higher or lower power usage.\n",
    "\n",
    "There might be peak usage hours typically associated with high demand periods, such as early morning hours when people start their day and evening hours when people return home and engage in household activities.\n",
    "\n",
    "Lower usage hours may occur during early morning or late night, where fewer activities are taking place, and people are generally at rest.\n",
    "\n",
    "The plot's markers (representing hourly data points) may help visualize how consumption varies hour-by-hour, offering insights into energy use patterns at specific times of the day.\n",
    "\n",
    "This analysis helps identify time-based trends in electricity consumption, such as peak hours for power usage, which can be useful for energy planning, load balancing, and understanding consumer behavior based on time of day.\n",
    "\n",
    "\n",
    "\n",
    "\n",
    "\n",
    "\n",
    "\n",
    "\n"
   ]
  },
  {
   "cell_type": "code",
   "execution_count": null,
   "metadata": {
    "colab": {
     "base_uri": "https://localhost:8080/",
     "height": 319
    },
    "id": "CkuQR1adER7B",
    "outputId": "920c871e-ee10-4736-ca02-b80b2ccdfb6f"
   },
   "outputs": [],
   "source": [
    "plt.figure(figsize=(14, 8))\n",
    "\n",
    "# Subplot 5: Mean Voltage by Month\n",
    "plt.subplot(3, 2, 5)\n",
    "df.groupby('Month')['Voltage'].mean().plot(marker='o', color='coral')\n",
    "plt.xlabel('Month')\n",
    "plt.ylabel('Mean Voltage (V)')\n",
    "plt.title('Mean Voltage by Month')\n",
    "plt.tight_layout()\n",
    "plt.show()"
   ]
  },
  {
   "cell_type": "markdown",
   "metadata": {
    "id": "1Cwyb76hM56k"
   },
   "source": [
    "### **Observation**\n",
    "\n",
    "The Mean Voltage by Month plot reveals the following observations:\n",
    "\n",
    "Voltage levels show monthly variations, possibly indicating seasonal changes or fluctuations in the power grid.\n",
    "\n",
    "Some months may exhibit higher or lower voltage on average, potentially tied to weather patterns, power demand, or infrastructure conditions.\n",
    "\n",
    "Markers at each month highlight voltage trends across the year, showing whether voltage is relatively stable or if there are significant peaks or dips in specific months.\n",
    "\n",
    "This analysis provides insights into voltage stability, helping to understand potential issues in the electrical grid or areas where voltage fluctuations might need attention.\n",
    "\n",
    "\n",
    "\n",
    "\n",
    "\n"
   ]
  },
  {
   "cell_type": "code",
   "execution_count": null,
   "metadata": {
    "colab": {
     "base_uri": "https://localhost:8080/",
     "height": 319
    },
    "id": "avmZ9oEAEUmk",
    "outputId": "79f9d82f-5310-4b3f-d232-86e88019c597"
   },
   "outputs": [],
   "source": [
    "plt.figure(figsize=(14, 8))\n",
    "\n",
    "# Subplot 6: Mean Global Intensity by Year\n",
    "plt.subplot(3, 2, 6)\n",
    "df.groupby('Year')['Global_intensity'].mean().plot(marker='o', color='teal')\n",
    "plt.xlabel('Year')\n",
    "plt.ylabel('Mean Global Intensity (A)')\n",
    "plt.title('Mean Global Intensity by Year')\n",
    "plt.tight_layout()\n",
    "plt.show()\n"
   ]
  },
  {
   "cell_type": "markdown",
   "metadata": {
    "id": "_ggjzZ28NOEy"
   },
   "source": [
    "### **Observations**\n",
    "\n",
    "The Mean Global Intensity by Year plot reveals the following observations:\n",
    "\n",
    "The plot shows how global intensity (measured in amperes) varies on average across different years.\n",
    "\n",
    "Global intensity exhibits noticeable trends over the years, potentially indicating changes in power consumption patterns, grid performance, or overall electricity demand.\n",
    "\n",
    "The markers highlight the specific values for each year, giving a clear view of the fluctuations or increases/decreases in global intensity.\n",
    "\n",
    "The trend might suggest years with higher consumption or shifts in energy usage, which can help in understanding patterns related to demand peaks and the overall health of the power distribution system."
   ]
  },
  {
   "cell_type": "markdown",
   "metadata": {
    "id": "CN9zQwU14QWl"
   },
   "source": [
    "## **3. Pair Plot for Global Active Power and Voltage**\n",
    "This pair plot will help visualize relationships between numerical variables (e.g., Global_active_power, Global_reactive_power, Voltage, and Global_intensity). The seaborn library is perfect for this."
   ]
  },
  {
   "cell_type": "code",
   "execution_count": null,
   "metadata": {
    "colab": {
     "base_uri": "https://localhost:8080/",
     "height": 1000
    },
    "id": "4-iDkynd4ZRJ",
    "outputId": "9b3c8ff6-effa-4600-c2ae-bb2642bb460a"
   },
   "outputs": [],
   "source": [
    "import seaborn as sns\n",
    "\n",
    "# Select relevant numeric columns\n",
    "numeric_cols = ['Global_active_power', 'Global_reactive_power', 'Voltage', 'Global_intensity']\n",
    "sns.pairplot(df[numeric_cols], diag_kind='kde', plot_kws={'alpha': 0.6})\n",
    "plt.suptitle('Pair Plot of Power Consumption Metrics', y=1.02)\n",
    "plt.show()\n"
   ]
  },
  {
   "cell_type": "markdown",
   "metadata": {
    "id": "W9KRh2o9NZ00"
   },
   "source": [
    "### **Observations**\n",
    "\n",
    "The Pair Plot of Power Consumption Metrics shows the relationships between the following variables:\n",
    "\n",
    "Global Active Power (kW)\n",
    "\n",
    "Global Reactive Power (kVAR)\n",
    "\n",
    "Voltage (V)\n",
    "\n",
    "Global Intensity (A)\n",
    "\n",
    "Observations:\n",
    "\n",
    "Diagonal KDE plots represent the distribution of each variable. These plots help to identify the spread and skewness of the data for each feature.\n",
    "\n",
    "Off-diagonal scatter plots illustrate the relationships between pairs of variables.\n",
    "These plots can indicate:\n",
    "\n",
    "Correlations: If the scatter plots show a linear or curved trend, it suggests that two variables are correlated.\n",
    "\n",
    "Clusters or Outliers: Any significant grouping or outliers in the scatter plots might suggest patterns or data anomalies.\n",
    "\n",
    "Global Intensity appears to have a noticeable correlation with Global Active Power. As power consumption increases, global intensity tends to increase as well.\n",
    "\n",
    "Global Active Power and Global Reactive Power: The relationship is less clear, indicating weak or no significant correlation between these two variables.\n",
    "\n",
    "Voltage and Power Metrics: Voltage values seem less variable across the dataset, possibly suggesting stable power distribution, while power-related metrics vary more noticeably.\n",
    "\n",
    "This pair plot gives a clear view of the interdependencies between the variables and helps in identifying multicollinearity or understanding how one metric might influence another.\n",
    "\n",
    "\n",
    "\n",
    "\n",
    "\n",
    "\n",
    "\n",
    "\n",
    "\n",
    "\n"
   ]
  },
  {
   "cell_type": "markdown",
   "metadata": {
    "id": "zO_UKJ4F4fJe"
   },
   "source": [
    "## **4. Line Plot of Mean Global Active Power by Hour**\n",
    "This plot shows how Global_active_power varies by hour of the day on average."
   ]
  },
  {
   "cell_type": "code",
   "execution_count": null,
   "metadata": {
    "colab": {
     "base_uri": "https://localhost:8080/",
     "height": 564
    },
    "id": "r7ZhxshD4cf1",
    "outputId": "0a530def-c0ed-4731-ac31-9806868bb53e"
   },
   "outputs": [],
   "source": [
    "plt.figure(figsize=(10, 6))\n",
    "df.groupby('Hour')['Global_active_power'].mean().plot(color='coral')\n",
    "plt.xlabel('Hour of the Day')\n",
    "plt.ylabel('Mean Global Active Power')\n",
    "plt.title('Mean Global Active Power by Hour of the Day')\n",
    "plt.show()\n"
   ]
  },
  {
   "cell_type": "markdown",
   "metadata": {
    "id": "WsT3XwswN73f"
   },
   "source": [
    "\n",
    "### **Observations:**\n",
    "\n",
    "The plot showing Mean Global Active Power by Hour of the Day provides insights into the power consumption trends across different hours.\n",
    "\n",
    "\n",
    "The plot likely shows daily power consumption patterns, with fluctuations in mean global active power based on the hour.\n",
    "\n",
    "Early hours (midnight to early morning) may show lower power consumption, indicating that most people are sleeping and fewer appliances are in use.\n",
    "\n",
    "Daytime hours (morning to evening) might show higher global active power as households and industries use more electricity during waking hours.\n",
    "\n",
    "Late evening could reflect a drop in power usage as people begin to wind down for the night.\n",
    "\n",
    "This analysis can be used to identify peak power usage times and potentially adjust grid management strategies based on demand throughout the day."
   ]
  },
  {
   "cell_type": "markdown",
   "metadata": {
    "id": "Dl_kKv-F4ojM"
   },
   "source": [
    "## **5. Mean Global Active Power by Weekday**\n",
    "This bar plot shows how Global_active_power varies by weekday, which can help reveal patterns in energy usage throughout the week."
   ]
  },
  {
   "cell_type": "code",
   "execution_count": null,
   "metadata": {
    "colab": {
     "base_uri": "https://localhost:8080/",
     "height": 564
    },
    "id": "eaC6tKsX4lZD",
    "outputId": "1a459a0f-fd91-4e37-8ef7-aed46dcafd68"
   },
   "outputs": [],
   "source": [
    "df['Date'] = pd.to_datetime(df['Date'], format='%d/%m/%Y')  \n",
    "df['Weekday'] = df['Date'].dt.weekday\n",
    "mean_power_by_weekday = df.groupby('Weekday')['Global_active_power'].mean()\n",
    "\n",
    "import matplotlib.pyplot as plt\n",
    "\n",
    "plt.figure(figsize=(8, 6))\n",
    "mean_power_by_weekday.plot(kind='bar', color='lightblue', edgecolor='black')\n",
    "plt.xlabel('Weekday')\n",
    "plt.ylabel('Mean Global Active Power (kW)')\n",
    "plt.title('Mean Global Active Power by Weekday')\n",
    "plt.xticks(ticks=range(7), labels=['Mon', 'Tue', 'Wed', 'Thu', 'Fri', 'Sat', 'Sun'], rotation=0)\n",
    "plt.show()\n"
   ]
  },
  {
   "cell_type": "markdown",
   "metadata": {
    "id": "TAbTMbrDOYc1"
   },
   "source": [
    "### **Observations:**\n",
    "\n",
    "\n",
    "The height of the bars corresponds to the average power consumption on each day of the week.\n",
    "\n",
    "The weekdays (Monday to Friday) may show different consumption patterns, with higher usage possibly observed on weekdays when people are more active or working from home.\n",
    "\n",
    "Saturday and Sunday may show lower or higher power consumption, depending on whether people are using more or fewer electronic devices, or if they are at home more during weekends.\n",
    "\n",
    "This plot helps in understanding daily patterns of electricity consumption and can assist in optimizing energy distribution for better efficiency."
   ]
  },
  {
   "cell_type": "code",
   "execution_count": null,
   "metadata": {
    "colab": {
     "base_uri": "https://localhost:8080/"
    },
    "id": "8xa0mEvZ4NTc",
    "outputId": "50c53447-45b8-41c5-a3d5-84b9ecde6c54"
   },
   "outputs": [],
   "source": [
    "mean_power_holiday = df.groupby('Is_holiday')['Global_active_power'].mean()\n",
    "\n",
    "print(\"Mean Global Active Power (kW):\")\n",
    "print(\"Non-Holiday (Is_holiday=0):\", mean_power_holiday[0])\n",
    "print(\"Holiday (Is_holiday=1):\", mean_power_holiday[1])\n"
   ]
  },
  {
   "cell_type": "markdown",
   "metadata": {
    "id": "RdscDnWxOpz6"
   },
   "source": [
    "### **Observations:**\n",
    "\n",
    "\n",
    "Non-Holiday (Is_holiday=0): This is the average Global Active Power consumption on regular working days.\n",
    "\n",
    "Holiday (Is_holiday=1): This is the average Global Active Power consumption on holidays.\n",
    "\n",
    "By comparing the two values, you can understand whether power consumption increases or decreases on holidays, which may reflect patterns like reduced power usage when people are not working, or higher consumption due to leisure activities and home usage."
   ]
  },
  {
   "cell_type": "code",
   "execution_count": null,
   "metadata": {
    "colab": {
     "base_uri": "https://localhost:8080/",
     "height": 564
    },
    "id": "ei4FFpij4XLX",
    "outputId": "78c65080-9450-47d1-8e91-4439f289edb9"
   },
   "outputs": [],
   "source": [
    "import matplotlib.pyplot as plt\n",
    "\n",
    "mean_power_holiday = df.groupby('Is_holiday')['Global_active_power'].mean()\n",
    "\n",
    "plt.figure(figsize=(8, 6))\n",
    "mean_power_holiday.plot(kind='bar', color=['lightblue', 'lightgreen'], edgecolor='black')\n",
    "plt.xticks([0, 1], ['Non-Holiday', 'Holiday'], rotation=0)\n",
    "plt.xlabel('Is Holiday')\n",
    "plt.ylabel('Mean Global Active Power (kW)')\n",
    "plt.title('Mean Global Active Power on Holidays vs. Non-Holidays')\n",
    "plt.show()\n"
   ]
  },
  {
   "cell_type": "markdown",
   "metadata": {
    "id": "KlC0WvjjO_Im"
   },
   "source": [
    "### **observations:**\n",
    "\n",
    "The plot created using the code above will display a bar chart comparing the mean Global Active Power between holidays and non-holidays.\n",
    "\n",
    "Non-Holiday (Is_holiday=0): The bar representing the mean power consumption on regular days.\n",
    "\n",
    "Holiday (Is_holiday=1): The bar representing the mean power consumption on holidays.\n",
    "\n",
    "The plot will provide insights into whether power consumption tends to be higher or lower during holidays, helping to identify patterns in energy usage related to public holidays."
   ]
  },
  {
   "cell_type": "markdown",
   "metadata": {
    "id": "OsNNfHrj0hM6"
   },
   "source": [
    "## **Holiday or working day**\n",
    "\n",
    "Finding whether the day is a holiday or not (0 = not holiday, 1= holiday) and visualing the otcome\n"
   ]
  },
  {
   "cell_type": "code",
   "execution_count": null,
   "metadata": {
    "colab": {
     "base_uri": "https://localhost:8080/"
    },
    "id": "KHyNAMEVy7Dc",
    "outputId": "16314220-3637-47ac-98e4-791f46c3fa4d"
   },
   "outputs": [],
   "source": [
    "# Output: Displaying Holiday Counts\n",
    "holiday_counts = df['Is_holiday'].value_counts().rename(index={0.0: \"Working Day\", 1.0: \"Holiday\"})\n",
    "print(\"Holiday and Working Day Counts\")\n",
    "print(holiday_counts)\n",
    "print()\n",
    "\n"
   ]
  },
  {
   "cell_type": "markdown",
   "metadata": {
    "id": "t_yfiy86PhHx"
   },
   "source": [
    "### **observations**\n",
    "\n",
    "The output has provided the number of holidays and working days, giving an understanding of the distribution of holidays vs. working days in the dataset."
   ]
  },
  {
   "cell_type": "code",
   "execution_count": null,
   "metadata": {
    "colab": {
     "base_uri": "https://localhost:8080/",
     "height": 485
    },
    "id": "mef3yrf51OC_",
    "outputId": "60b5c4ef-927a-4657-feaf-b0fea2e23f55"
   },
   "outputs": [],
   "source": [
    "\n",
    "#  Plot Holiday vs Working Day\n",
    "plt.figure(figsize=(10, 4))\n",
    "holiday_counts.plot(kind='bar', color=['lightgreen', 'salmon'], edgecolor='black')\n",
    "plt.title('Holiday vs Working Day Counts')\n",
    "plt.ylabel('Count')\n",
    "plt.xlabel('Day Type')\n",
    "plt.show()"
   ]
  },
  {
   "cell_type": "markdown",
   "metadata": {
    "id": "zgqicgVePr_n"
   },
   "source": [
    "### **Observations**\n",
    "\n",
    "The plot generated will show a bar chart that compares the count of holidays and working days:\n",
    "\n",
    "X-axis: Day Type (Holiday and Working Day)\n",
    "\n",
    "Y-axis: Count (Number of occurrences for each type)\n",
    "\n",
    "The bars will be colored to represent:\n",
    "\n",
    "Light Green for Working Days\n",
    "\n",
    "Salmon for Holidays\n",
    "\n",
    "This plot visually highlights the proportion of holidays and working days in the dataset."
   ]
  },
  {
   "cell_type": "markdown",
   "metadata": {
    "id": "gcaqGlkV1iOS"
   },
   "source": [
    "## **Checking sunlight**\n",
    "Finding if the there is sunlight during the time given in the dataset.\n",
    "\n",
    "Displaying Daylight Counts and Ploting Daylight vs No Daylight."
   ]
  },
  {
   "cell_type": "code",
   "execution_count": null,
   "metadata": {
    "colab": {
     "base_uri": "https://localhost:8080/"
    },
    "id": "GJ9y64Qk1J7z",
    "outputId": "32b26e73-03a6-40c6-c0e0-6f4c5fdc01c3"
   },
   "outputs": [],
   "source": [
    "\n",
    "# Output: Displaying Daylight Counts\n",
    "daylight_counts = df['Light'].value_counts().rename(index={0: \"No Daylight\", 1: \"Daylight\"})\n",
    "print(\"Daylight and No Daylight Counts\")\n",
    "print(daylight_counts)"
   ]
  },
  {
   "cell_type": "markdown",
   "metadata": {
    "id": "PBwtYcpyQeuJ"
   },
   "source": [
    "### **observations**\n",
    "\n",
    "The output will display the count of Daylight and No Daylight instances in the dataset:\n",
    "\n",
    "Daylight refers to instances where the time falls within the daylight hours (6:00 AM to 6:00 PM).\n",
    "\n",
    "No Daylight refers to instances outside of the daylight hours (6:00 PM to 6:00 AM).\n",
    "\n",
    "The actual counts will depend on the data in the Light column, where 1 represents daylight and 0 represents no daylight."
   ]
  },
  {
   "cell_type": "code",
   "execution_count": null,
   "metadata": {
    "colab": {
     "base_uri": "https://localhost:8080/",
     "height": 478
    },
    "id": "GsBZecQ-0YpE",
    "outputId": "2614652a-2df8-404a-d58f-ac48de414eec"
   },
   "outputs": [],
   "source": [
    "# Plot Daylight vs No Daylight\n",
    "plt.figure(figsize=(10, 4))\n",
    "daylight_counts.plot(kind='bar', color=['lightblue', 'gold'], edgecolor='black')\n",
    "plt.title('Daylight vs No Daylight Counts')\n",
    "plt.ylabel('Count')\n",
    "plt.xlabel('Light Condition')\n",
    "plt.show()\n"
   ]
  },
  {
   "cell_type": "markdown",
   "metadata": {
    "id": "EV9Hh_HUQ07S"
   },
   "source": [
    "### **Observations:**\n",
    "\n",
    "\n",
    "The plot will show two bars: one for daylight and one for no daylight.\n",
    "\n",
    "X-axis: Represents the light condition (Daylight and No Daylight).\n",
    "\n",
    "Y-axis: Represents the count of instances for each light condition.\n",
    "\n",
    "Bar Colors:\n",
    "\n",
    "Light Blue: Represents Daylight.\n",
    "\n",
    "Gold: Represents No Daylight.\n",
    "\n",
    "The length of each bar will represent the total count of instances that correspond to daylight and no daylight.\n",
    "\n",
    "Based on the dataset, we can observe how often daylight occurs compared to nighttime (no daylight)."
   ]
  },
  {
   "cell_type": "markdown",
   "metadata": {
    "id": "LzIT62U0JGqF"
   },
   "source": [
    "# **Working On  Different ML Models**"
   ]
  },
  {
   "cell_type": "markdown",
   "metadata": {
    "id": "Mxgz4IpQJUxB"
   },
   "source": [
    "## **Preparing the data**"
   ]
  },
  {
   "cell_type": "markdown",
   "metadata": {
    "id": "bwSMxzvgKtjz"
   },
   "source": [
    "**1.Dropping non-numeric columns:**\n",
    "\n",
    "removing the columns 'Date', 'DateTime', and 'Time' from the dataset, as they are likely non-numeric and not useful for the model."
   ]
  },
  {
   "cell_type": "code",
   "execution_count": null,
   "metadata": {
    "id": "kC7E38qsJOqk"
   },
   "outputs": [],
   "source": [
    "df.drop(['Date', 'DateTime', 'Time'], axis=1, inplace=True)#\n"
   ]
  },
  {
   "cell_type": "markdown",
   "metadata": {
    "id": "5D99_DjALJOm"
   },
   "source": [
    "**2.Separating features and target variable:**\n"
   ]
  },
  {
   "cell_type": "code",
   "execution_count": null,
   "metadata": {
    "colab": {
     "base_uri": "https://localhost:8080/"
    },
    "id": "lXcL3klwmKjH",
    "outputId": "c0ebba70-2528-47ff-8628-83ae01d2eaaf"
   },
   "outputs": [],
   "source": [
    "print(\"Selected Features:\", df.drop('Global_active_power', axis=1).columns)\n"
   ]
  },
  {
   "cell_type": "code",
   "execution_count": null,
   "metadata": {
    "id": "ayXQbljVLTog"
   },
   "outputs": [],
   "source": [
    "X = df.drop('Global_active_power', axis=1)\n",
    "y = df['Global_active_power']\n"
   ]
  },
  {
   "cell_type": "markdown",
   "metadata": {
    "id": "f4iqxxjULReB"
   },
   "source": [
    "X contains all the columns except 'Global_active_power', which is your target variable.\n",
    "\n",
    "y contains the 'Global_active_power' column, which will be predicted."
   ]
  },
  {
   "cell_type": "markdown",
   "metadata": {
    "id": "5r2F3mncLcAr"
   },
   "source": [
    "**3.Impute missing values**"
   ]
  },
  {
   "cell_type": "code",
   "execution_count": null,
   "metadata": {
    "id": "BAL7DY-DTwgg"
   },
   "outputs": [],
   "source": [
    "from sklearn.impute import SimpleImputer\n",
    "# Impute missing values for X and y separately\n",
    "X_imputer = SimpleImputer(strategy='mean')\n",
    "y_imputer = SimpleImputer(strategy='mean')\n",
    "\n",
    "X = X_imputer.fit_transform(X)\n",
    "y = y_imputer.fit_transform(y.to_numpy().reshape(-1, 1)).ravel()\n"
   ]
  },
  {
   "cell_type": "markdown",
   "metadata": {
    "id": "w1tgVcgIUkSb"
   },
   "source": [
    "filling missing values with the mean, median, or another strategy using SimpleImputer"
   ]
  },
  {
   "cell_type": "markdown",
   "metadata": {
    "id": "c0X1PMZzTqSO"
   },
   "source": [
    "**4.Splitting the dataset:**"
   ]
  },
  {
   "cell_type": "code",
   "execution_count": null,
   "metadata": {
    "id": "0mVsYqpfP6Ht"
   },
   "outputs": [],
   "source": [
    "from sklearn.model_selection import train_test_split\n",
    "\n",
    "X_train, X_test, y_train, y_test = train_test_split(X, y, test_size=0.2, random_state=42)\n"
   ]
  },
  {
   "cell_type": "markdown",
   "metadata": {
    "id": "UufWQkamT2s7"
   },
   "source": [
    "splitting the dataset into training and testing sets with 80% for training and 20% for testing (test_size=0.2).\n",
    "\n",
    "random_state=42 ensures reproducibility of the split."
   ]
  },
  {
   "cell_type": "markdown",
   "metadata": {
    "id": "d5TgcZkcMEro"
   },
   "source": [
    "## **Building the Models:**\n",
    "\n",
    "\n",
    "*   Linear Regression\n",
    "*   lasso Regression\n",
    "*   Rigid Regression\n",
    "\n",
    "\n",
    "\n",
    "\n"
   ]
  },
  {
   "cell_type": "markdown",
   "metadata": {
    "id": "5E5bGudYMmSH"
   },
   "source": [
    "### **Model Training**"
   ]
  },
  {
   "cell_type": "code",
   "execution_count": null,
   "metadata": {
    "colab": {
     "base_uri": "https://localhost:8080/",
     "height": 80
    },
    "id": "2zpAANggM0T7",
    "outputId": "c36d8e67-e69d-4ba2-a7ae-f47cb12b3901"
   },
   "outputs": [],
   "source": [
    "from sklearn.linear_model import LinearRegression, Lasso, Ridge\n",
    "from sklearn.metrics import mean_squared_error, accuracy_score\n",
    "import numpy as np\n",
    "\n",
    "# Initialize the models\n",
    "linear_model = LinearRegression()\n",
    "lasso_model = Lasso()\n",
    "ridge_model = Ridge()\n",
    "\n",
    "# Train the models\n",
    "linear_model.fit(X_train, y_train)\n",
    "lasso_model.fit(X_train, y_train)\n",
    "ridge_model.fit(X_train, y_train)"
   ]
  },
  {
   "cell_type": "markdown",
   "metadata": {
    "id": "o6kudkfkM3T8"
   },
   "source": [
    "### **Model Evaluation**"
   ]
  },
  {
   "cell_type": "code",
   "execution_count": null,
   "metadata": {
    "colab": {
     "base_uri": "https://localhost:8080/"
    },
    "id": "lHB-pCd9M-zT",
    "outputId": "eb444c28-7d98-4804-a74e-228d3048c8e2"
   },
   "outputs": [],
   "source": [
    "# Predict on test data\n",
    "linear_pred = linear_model.predict(X_test)\n",
    "lasso_pred = lasso_model.predict(X_test)\n",
    "ridge_pred = ridge_model.predict(X_test)\n",
    "\n",
    "\n",
    "# Calculate RMSE for each model\n",
    "linear_rmse = np.sqrt(mean_squared_error(y_test, linear_pred))\n",
    "lasso_rmse = np.sqrt(mean_squared_error(y_test, lasso_pred))\n",
    "ridge_rmse = np.sqrt(mean_squared_error(y_test, ridge_pred))\n",
    "\n",
    "\n",
    "# For regression tasks, accuracy is not directly computed like classification tasks, but we can use R-squared as a performance metric\n",
    "linear_accuracy = linear_model.score(X_test, y_test)\n",
    "lasso_accuracy = lasso_model.score(X_test, y_test)\n",
    "ridge_accuracy = ridge_model.score(X_test, y_test)\n",
    "\n",
    "\n",
    "# Output results\n",
    "print(\"Linear Regression - RMSE:\", linear_rmse, \"Accuracy (R^2):\", linear_accuracy)\n",
    "print(\"Lasso Regression - RMSE:\", lasso_rmse, \"Accuracy (R^2):\", lasso_accuracy)\n",
    "print(\"Ridge Regression - RMSE:\", ridge_rmse, \"Accuracy (R^2):\", ridge_accuracy)\n",
    "\n"
   ]
  },
  {
   "cell_type": "code",
   "execution_count": null,
   "metadata": {
    "colab": {
     "base_uri": "https://localhost:8080/"
    },
    "id": "bizyuOrjpelU",
    "outputId": "f7574062-3c98-4299-ac2a-782c4dcf56ce"
   },
   "outputs": [],
   "source": [
    "import joblib\n",
    "#Save feature names\n",
    "feature_names = df.drop('Global_active_power', axis=1).columns\n",
    "joblib.dump(feature_names, 'feature_names.pkl')\n",
    "\n",
    "print(\"Models and features saved successfully.\")"
   ]
  },
  {
   "cell_type": "code",
   "execution_count": null,
   "metadata": {},
   "outputs": [],
   "source": [
    "print(feature_names)"
   ]
  },
  {
   "cell_type": "markdown",
   "metadata": {
    "id": "sR5s_sCfNI8n"
   },
   "source": [
    "### **Plot the Results:**"
   ]
  },
  {
   "cell_type": "code",
   "execution_count": null,
   "metadata": {
    "colab": {
     "base_uri": "https://localhost:8080/",
     "height": 1000
    },
    "id": "5apRaQ6XNGHh",
    "outputId": "819d48a1-b1e2-441c-abe8-1945c6fcd761"
   },
   "outputs": [],
   "source": [
    "import matplotlib.pyplot as plt\n",
    "\n",
    "# Visualization for RMSE\n",
    "plt.figure(figsize=(10, 6))\n",
    "models = ['Linear Regression', 'Lasso Regression', 'Ridge Regression']\n",
    "rmse_values = [linear_rmse, lasso_rmse, ridge_rmse]\n",
    "plt.bar(models, rmse_values, color=['skyblue', 'lightgreen', 'salmon'])\n",
    "plt.ylabel('RMSE')\n",
    "plt.title('RMSE Comparison of Different Models')\n",
    "plt.show()\n",
    "\n",
    "# Visualization for Accuracy\n",
    "plt.figure(figsize=(10, 6))\n",
    "accuracy_values = [linear_accuracy, lasso_accuracy, ridge_accuracy]\n",
    "plt.bar(models, accuracy_values, color=['skyblue', 'lightgreen', 'salmon'])\n",
    "plt.ylabel('Accuracy (R-squared)')\n",
    "plt.title('Accuracy Comparison of Different Models')\n",
    "plt.show()"
   ]
  },
  {
   "cell_type": "markdown",
   "metadata": {
    "id": "ixgP1avSTNq3"
   },
   "source": [
    "### **Observations:**\n",
    "\n",
    "**Linear and Ridge Regression:** Both models show very high accuracy (R² ≈ 0.9985) and low error (RMSE ≈ 0.0403). They perform similarly, suggesting that regularization in Ridge wasn't essential here, likely due to minimal multicollinearity or overfitting issues.\n",
    "\n",
    "**Lasso Regression:** Lower accuracy (R² ≈ 0.9508) and higher error (RMSE ≈ 0.2330) compared to the other models. Lasso’s regularization may have penalized some coefficients, which could reduce performance if all features are relevant.\n",
    "\n",
    "### **Conclusion:**\n",
    " Linear and Ridge Regression are the best fits for this dataset due to their high accuracy and low error."
   ]
  },
  {
   "cell_type": "code",
   "execution_count": null,
   "metadata": {
    "colab": {
     "base_uri": "https://localhost:8080/"
    },
    "id": "Hljv-9vsThGV",
    "outputId": "ff8f82a0-2956-495d-aeab-c40011396a0f"
   },
   "outputs": [],
   "source": [
    "!pip install statsmodels\n"
   ]
  },
  {
   "cell_type": "markdown",
   "metadata": {
    "id": "Qquywz-vSoLO"
   },
   "source": [
    "## **ARIMA Model**\n",
    "ARIMA is a statistical model used for time series forecasting."
   ]
  },
  {
   "cell_type": "markdown",
   "metadata": {
    "id": "KozIObc-RDSm"
   },
   "source": [
    "![Screenshot 2024-11-24 183759.png](data:image/png;base64,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)"
   ]
  },
  {
   "cell_type": "code",
   "execution_count": null,
   "metadata": {
    "colab": {
     "base_uri": "https://localhost:8080/"
    },
    "id": "iY3XlyZdPtPa",
    "outputId": "868777c2-eb0c-4cbb-ba95-a3817a8a5936"
   },
   "outputs": [],
   "source": [
    "from statsmodels.tsa.arima.model import ARIMA\n",
    "\n",
    "# Fit the ARIMA model\n",
    "arima_model = ARIMA(y_train, order=(5, 1, 0))  # Adjust (p, d, q) order based on your data\n",
    "arima_model_fit = arima_model.fit()\n",
    "\n",
    "# Make predictions on the test set\n",
    "predictions = arima_model_fit.predict(start=len(y_train), end=len(y_train) + len(y_test) - 1, typ='levels')\n",
    "\n",
    "# Calculate RMSE\n",
    "rmse = np.sqrt(mean_squared_error(y_test, predictions))\n"
   ]
  },
  {
   "cell_type": "code",
   "execution_count": null,
   "metadata": {
    "colab": {
     "base_uri": "https://localhost:8080/"
    },
    "id": "jCzI0bSuWuG4",
    "outputId": "58659270-820f-4e89-f562-a2a7e4b4197b"
   },
   "outputs": [],
   "source": [
    "print(\"RMSE:\", rmse)"
   ]
  },
  {
   "cell_type": "code",
   "execution_count": null,
   "metadata": {
    "colab": {
     "base_uri": "https://localhost:8080/",
     "height": 1000
    },
    "id": "vx3g8yB2Z_we",
    "outputId": "2ea23679-4eff-4028-e51d-3c6a100ce546"
   },
   "outputs": [],
   "source": [
    "# If y_test is a NumPy array, convert it to a Pandas Series with a time index\n",
    "y_test_series = pd.Series(y_test, index=range(len(y_train), len(y_train) + len(y_test)))\n",
    "predictions_series = pd.Series(predictions, index=y_test_series.index)\n",
    "\n",
    "# Plot actual vs predicted values\n",
    "plt.figure(figsize=(12, 6))\n",
    "plt.plot(y_test_series, label=\"Actual\", color=\"blue\")\n",
    "plt.plot(predictions_series, label=\"Predicted\", color=\"orange\")\n",
    "plt.title(\"ARIMA Model: Actual vs Predicted Values\")\n",
    "plt.xlabel(\"Time\")\n",
    "plt.ylabel(\"Value\")\n",
    "plt.legend()\n",
    "plt.show()\n",
    "\n",
    "\n",
    "# Residual analysis\n",
    "residuals = y_test - predictions\n",
    "\n",
    "# Plot residuals\n",
    "plt.figure(figsize=(12, 6))\n",
    "plt.plot(residuals, label=\"Residuals\", color=\"purple\")\n",
    "plt.axhline(0, linestyle=\"--\", color=\"red\")\n",
    "plt.title(\"Residuals from ARIMA Model\")\n",
    "plt.xlabel(\"Time\")\n",
    "plt.ylabel(\"Residuals\")\n",
    "plt.legend()\n",
    "plt.show()\n",
    "\n",
    "# Residual distribution\n",
    "plt.figure(figsize=(8, 6))\n",
    "plt.hist(residuals, bins=30, color=\"gray\", edgecolor=\"black\")\n",
    "plt.title(\"Residual Distribution\")\n",
    "plt.xlabel(\"Residuals\")\n",
    "plt.ylabel(\"Frequency\")\n",
    "plt.show()\n",
    "\n",
    "# Forecast future values\n",
    "future_steps = 30  # Example: Forecast next 30 steps\n",
    "forecast = arima_model_fit.forecast(steps=future_steps)\n",
    "plt.figure(figsize=(12, 6))\n",
    "plt.plot(range(len(y_train), len(y_train) + future_steps), forecast, label=\"Forecast\", color=\"green\")\n",
    "plt.title(\"Future Forecast using ARIMA\")\n",
    "plt.xlabel(\"Time\")\n",
    "plt.ylabel(\"Value\")\n",
    "plt.legend()\n",
    "plt.show()"
   ]
  },
  {
   "cell_type": "markdown",
   "metadata": {
    "id": "cseAXzyMTgx-"
   },
   "source": [
    "## **PROPHET MODEL**"
   ]
  },
  {
   "cell_type": "markdown",
   "metadata": {
    "id": "BzBkWjtwTLT3"
   },
   "source": [
    "**Prophet Model**:\n",
    "The Prophet model by Facebook is an additive time series forecasting model designed for datasets with strong seasonality, trends, and missing data. Its equation can be expressed as:\n",
    "\n",
    "\n",
    "y(t)=g(t)+s(t)+h(t)+ϵ\n",
    "\n",
    "\n",
    "Where:\n",
    "\n",
    "\n",
    "g(t): Trend Component\n",
    "Represents the overall increase or decrease in the data over time.\n",
    "\n",
    "Can be linear or logistic growth depending on the dataset.\n",
    "\n",
    "\n",
    "s(t): Seasonality Component\n",
    "Captures repeating patterns (e.g., daily, weekly, yearly).\n",
    "\n",
    "Automatically detects seasonality from the data.\n",
    "User-defined periodicities can also be added.\n",
    "\n",
    "h(t): Holiday Effect\n",
    "Incorporates the impact of holidays or special events on the time series.\n",
    "\n",
    "\n",
    "  Noise:\n",
    "Represents the unexplained variations or residuals in the data.\n",
    "\n",
    "**Note:**\n",
    "Run Prophet Model in Google Collab using TPU(Tensor Processing Unit)"
   ]
  },
  {
   "cell_type": "code",
   "execution_count": null,
   "metadata": {
    "colab": {
     "base_uri": "https://localhost:8080/"
    },
    "id": "8ZZjKq51W2ri",
    "outputId": "7da043aa-4555-4ae5-ab32-ea891a5b46ff"
   },
   "outputs": [],
   "source": [
    "!python -m pip install prophet"
   ]
  },
  {
   "cell_type": "code",
   "execution_count": null,
   "metadata": {
    "id": "y7myYdp4W8to"
   },
   "outputs": [],
   "source": [
    "from prophet import Prophet"
   ]
  },
  {
   "cell_type": "code",
   "execution_count": null,
   "metadata": {
    "id": "Vzh9hC0VXD25"
   },
   "outputs": [],
   "source": [
    "data = df.copy()\n",
    "data['ds'] = pd.to_datetime(data[['Year', 'Month', 'Day', 'Hour', 'Minute']])\n",
    "data = data.rename(columns={'Global_active_power': 'y'})\n"
   ]
  },
  {
   "cell_type": "code",
   "execution_count": null,
   "metadata": {
    "colab": {
     "base_uri": "https://localhost:8080/",
     "height": 489
    },
    "id": "55pvUCEcXVO7",
    "outputId": "e2e94eac-cf39-4fd9-c27d-79411a35553f"
   },
   "outputs": [],
   "source": [
    "data.y.value_counts()"
   ]
  },
  {
   "cell_type": "code",
   "execution_count": null,
   "metadata": {
    "colab": {
     "base_uri": "https://localhost:8080/",
     "height": 489
    },
    "id": "MJb_pXWKXb-U",
    "outputId": "46b2d08f-854b-499f-f9c6-3ad6de1f5ac6"
   },
   "outputs": [],
   "source": [
    "df.Global_active_power.value_counts()"
   ]
  },
  {
   "cell_type": "code",
   "execution_count": null,
   "metadata": {
    "id": "o7X8FPlgX0Ax"
   },
   "outputs": [],
   "source": [
    "train_size = int(len(data) * 0.8)  # 80% of data for training\n",
    "train_df = data[:train_size]\n",
    "test_df = data[train_size:]\n",
    "\n",
    "model = Prophet()\n",
    "model.fit(train_df)\n",
    "\n",
    "future_dates_7days = model.make_future_dataframe(periods=7) # weekly prediction\n",
    "future_dates_60days = model.make_future_dataframe(periods=60) \n",
    "\n",
    "predictions_7days = model.predict(future_dates_7days)\n",
    "predictions_60days = model.predict(future_dates_60days)"
   ]
  },
  {
   "cell_type": "code",
   "execution_count": null,
   "metadata": {
    "id": "F6Hyntdzu5Vg"
   },
   "outputs": [],
   "source": [
    "fig, ax = plt.subplots(figsize=(25, 6))\n",
    "model.plot(predictions_7days, ax=ax)\n",
    "plt.title('7-Day Forecast')\n",
    "plt.xlabel('Date')\n",
    "plt.ylabel('Value')\n",
    "plt.legend()\n",
    "plt.show()\n",
    "\n"
   ]
  },
  {
   "cell_type": "code",
   "execution_count": null,
   "metadata": {
    "id": "HagR51aFu94P"
   },
   "outputs": [],
   "source": [
    "fig, ax = plt.subplots(figsize=(15, 6))\n",
    "model.plot(predictions_60days, ax=ax)\n",
    "plt.title('60-Day Forecast')\n",
    "plt.xlabel('Date')\n",
    "plt.ylabel('Value')\n",
    "plt.legend()\n",
    "plt.show()"
   ]
  },
  {
   "cell_type": "code",
   "execution_count": null,
   "metadata": {
    "id": "plOeXdZYvuUk"
   },
   "outputs": [],
   "source": [
    "predictions_60days.columns"
   ]
  },
  {
   "cell_type": "code",
   "execution_count": null,
   "metadata": {
    "id": "aRUt2w_YwRBz"
   },
   "outputs": [],
   "source": [
    "model.plot_components(predictions_60days);"
   ]
  },
  {
   "cell_type": "markdown",
   "metadata": {
    "id": "vVFTOyYe6cUl"
   },
   "source": [
    "## **Summary of the Analysis:**\n",
    "\n",
    "**1. Daily Pattern:**\n",
    "\n",
    "Energy consumption is at its lowest early in the morning (around 12 AM to 6 AM), likely when most household activities are minimal.\n",
    "\n",
    "Consumption starts rising in the morning hours (around 7 AM) as activities begin.\n",
    "\n",
    "Peaks occur in the evening (around 8 PM), indicating increased household energy usage, possibly due to cooking, lighting, or entertainment devices.\n",
    "\n",
    "Consumption drops again late at night.\n",
    "\n",
    "\n",
    "\n",
    "\n",
    "**2. Weekly Pattern:**\n",
    "\n",
    "Low Usage: Sundays exhibit the lowest energy consumption, possibly due to reduced activity or routines.\n",
    "\n",
    "High Usage: Peaks are seen on Fridays and Saturdays, indicating increased energy demand, likely from weekend-related activities like cooking or hosting events.\n",
    "\n",
    "Weekdays (Monday to Thursday) show moderate energy consumption.\n",
    "\n",
    "\n",
    "\n",
    "**3. Yearly Pattern:**\n",
    "\n",
    "High Usage Periods:\n",
    "\n",
    "Early in the year (January to March): Possibly due to heating needs during winter.\n",
    "\n",
    "Late in the year (September to December): Energy usage might increase with the onset of colder months or holidays.\n",
    "\n",
    "\n",
    "Low Usage Periods:\n",
    "\n",
    "Summer months (May to July) show reduced energy usage, potentially due to fewer heating demands and vacation periods.\n",
    "\n",
    "\n",
    "\n",
    "\n",
    "\n",
    "**4. Overall Trend:**\n",
    "\n",
    "A declining trend in energy consumption is observed from 2007 to 2009. This might reflect energy-efficient appliances or changes in household behavior.\n",
    "\n",
    "A slight recovery in energy usage is noted toward 2010.\n",
    "\n"
   ]
  },
  {
   "cell_type": "code",
   "execution_count": null,
   "metadata": {
    "id": "t-VJj3UeY0g0"
   },
   "outputs": [],
   "source": [
    "def preprocess_data(df):\n",
    "    # Handle missing values\n",
    "    df.fillna(df.mean(), inplace=True)\n",
    "\n",
    "    # Extract datetime features\n",
    "    df['datetime'] = pd.to_datetime(df['Date'] + ' ' + df['Time'], errors='coerce')\n",
    "    df['Year'] = df['datetime'].dt.year\n",
    "    df['Month'] = df['datetime'].dt.month\n",
    "    df['Day'] = df['datetime'].dt.day\n",
    "    df['Hour'] = df['datetime'].dt.hour\n",
    "    df['Minute'] = df['datetime'].dt.minute\n",
    "\n",
    "    # Feature engineering\n",
    "    df['Is_holiday'] = df['Date'].apply(lambda x: 1.0 if pd.to_datetime(x).weekday() >= 5 else 0.0)\n",
    "    df['Light'] = df['Hour'].apply(lambda x: 1 if 6 <= x < 18 else 0)\n",
    "\n",
    "    # Drop unnecessary columns\n",
    "    df.drop(['Date', 'Time', 'datetime'], axis=1, inplace=True)\n",
    "    return df\n"
   ]
  },
  {
   "cell_type": "code",
   "execution_count": null,
   "metadata": {
    "id": "lY-V9crQY_ca"
   },
   "outputs": [],
   "source": [
    "import joblib\n",
    "\n",
    "# Save the models\n",
    "joblib.dump(linear_model, 'linear_model.pkl')\n",
    "joblib.dump(ridge_model, 'ridge_model.pkl')\n",
    "joblib.dump(arima_model, 'arima_model.pkl')\n",
    "joblib.dump(feature_names, 'feature_names.pkl')\n",
    "\n",
    "# Load the models during deployment\n",
    "linear_model = joblib.load('linear_model.pkl')\n",
    "ridge_model = joblib.load('ridge_model.pkl')\n",
    "feature_names=joblib.load('feature_names.pkl')\n"
   ]
  }
 ],
 "metadata": {
  "accelerator": "TPU",
  "colab": {
   "gpuType": "V28",
   "provenance": []
  },
  "kernelspec": {
   "display_name": "base",
   "language": "python",
   "name": "python3"
  },
  "language_info": {
   "codemirror_mode": {
    "name": "ipython",
    "version": 3
   },
   "file_extension": ".py",
   "mimetype": "text/x-python",
   "name": "python",
   "nbconvert_exporter": "python",
   "pygments_lexer": "ipython3",
   "version": "3.12.7"
  }
 },
 "nbformat": 4,
 "nbformat_minor": 0
}
